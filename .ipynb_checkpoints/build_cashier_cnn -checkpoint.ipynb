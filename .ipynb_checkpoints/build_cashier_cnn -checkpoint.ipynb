{
 "cells": [
  {
   "cell_type": "raw",
   "metadata": {},
   "source": [
    "Filename identifiers \n",
    "\n",
    "Modality (01 = full-AV, 02 = video-only, 03 = audio-only).\n",
    "Vocal channel (01 = speech, 02 = song).\n",
    "Emotion (01 = neutral, 02 = calm, 03 = happy, 04 = sad, 05 = angry, 06 = fearful, 07 = disgust, 08 = surprised).\n",
    "Emotional intensity (01 = normal, 02 = strong). NOTE: There is no strong intensity for the ‘neutral’ emotion.\n",
    "Statement (01 = “Kids are talking by the door”, 02 = “Dogs are sitting by the door”).\n",
    "Repetition (01 = 1st repetition, 02 = 2nd repetition).\n",
    "Actor (01 to 24. Odd numbered actors are male, even numbered actors are female)."
   ]
  },
  {
   "cell_type": "code",
   "execution_count": 2,
   "metadata": {},
   "outputs": [
    {
     "name": "stderr",
     "output_type": "stream",
     "text": [
      "Using TensorFlow backend.\n"
     ]
    }
   ],
   "source": [
    "import numpy as np\n",
    "import pandas as pd\n",
    "import librosa\n",
    "from tqdm import tqdm\n",
    "from keras.utils import to_categorical\n",
    "from keras.models import Sequential\n",
    "from keras.layers import Conv2D, MaxPool2D, Flatten, Dropout, Dense\n",
    "from sklearn.utils.class_weight import compute_class_weight\n",
    "from sklearn.metrics import confusion_matrix\n",
    "import seaborn as sns\n",
    "import matplotlib.pyplot as plt\n",
    "import pickle\n",
    "import os\n",
    "\n",
    "import tensorflow as tf\n",
    "\n",
    "\n",
    "%matplotlib inline"
   ]
  },
  {
   "cell_type": "code",
   "execution_count": 3,
   "metadata": {},
   "outputs": [],
   "source": [
    "file_properties = pd.read_csv('cashier_data/data_index.csv')"
   ]
  },
  {
   "cell_type": "code",
   "execution_count": 4,
   "metadata": {},
   "outputs": [
    {
     "data": {
      "text/plain": [
       "93.75676946334087"
      ]
     },
     "execution_count": 4,
     "metadata": {},
     "output_type": "execute_result"
    }
   ],
   "source": [
    "file_properties['length'].sum() / 60"
   ]
  },
  {
   "cell_type": "code",
   "execution_count": 5,
   "metadata": {},
   "outputs": [
    {
     "name": "stderr",
     "output_type": "stream",
     "text": [
      "/usr/local/lib/python3.6/dist-packages/pandas/core/frame.py:4102: SettingWithCopyWarning: \n",
      "A value is trying to be set on a copy of a slice from a DataFrame\n",
      "\n",
      "See the caveats in the documentation: http://pandas.pydata.org/pandas-docs/stable/user_guide/indexing.html#returning-a-view-versus-a-copy\n",
      "  errors=errors,\n"
     ]
    }
   ],
   "source": [
    "train = file_properties[file_properties['set'] == 'train']\n",
    "# val = file_properties[file_properties['set'] == 'validation']\n",
    "test = file_properties[file_properties['set'] == 'test']\n",
    "train.drop('Unnamed: 0', inplace = True, axis = 1)\n",
    "# val.drop('Unnamed: 0', inplace = True, axis = 1)\n",
    "test.drop('Unnamed: 0', inplace = True, axis = 1)"
   ]
  },
  {
   "cell_type": "code",
   "execution_count": 6,
   "metadata": {},
   "outputs": [
    {
     "data": {
      "text/html": [
       "<div>\n",
       "<style scoped>\n",
       "    .dataframe tbody tr th:only-of-type {\n",
       "        vertical-align: middle;\n",
       "    }\n",
       "\n",
       "    .dataframe tbody tr th {\n",
       "        vertical-align: top;\n",
       "    }\n",
       "\n",
       "    .dataframe thead th {\n",
       "        text-align: right;\n",
       "    }\n",
       "</style>\n",
       "<table border=\"1\" class=\"dataframe\">\n",
       "  <thead>\n",
       "    <tr style=\"text-align: right;\">\n",
       "      <th></th>\n",
       "      <th>dataset</th>\n",
       "      <th>filename</th>\n",
       "      <th>actor</th>\n",
       "      <th>emotion</th>\n",
       "      <th>length</th>\n",
       "      <th>gender</th>\n",
       "      <th>set</th>\n",
       "    </tr>\n",
       "  </thead>\n",
       "  <tbody>\n",
       "    <tr>\n",
       "      <td>474</td>\n",
       "      <td>d</td>\n",
       "      <td>cashier_data/res/0475.wav</td>\n",
       "      <td>1</td>\n",
       "      <td>neutral</td>\n",
       "      <td>0.756961</td>\n",
       "      <td>male</td>\n",
       "      <td>test</td>\n",
       "    </tr>\n",
       "  </tbody>\n",
       "</table>\n",
       "</div>"
      ],
      "text/plain": [
       "    dataset                   filename  actor  emotion    length gender   set\n",
       "474       d  cashier_data/res/0475.wav      1  neutral  0.756961   male  test"
      ]
     },
     "execution_count": 6,
     "metadata": {},
     "output_type": "execute_result"
    }
   ],
   "source": [
    "# Need to drop file from RAVDESS that is too short after noise level detection\n",
    "# This file causes problems in testing\n",
    "\n",
    "test[test['length'] == test['length'].min()]"
   ]
  },
  {
   "cell_type": "code",
   "execution_count": 49,
   "metadata": {},
   "outputs": [],
   "source": [
    "# test.drop(index = 1010, inplace = True)"
   ]
  },
  {
   "cell_type": "code",
   "execution_count": 7,
   "metadata": {},
   "outputs": [],
   "source": [
    "# Class distribution in training set\n",
    "class_dist = train['emotion'].value_counts()\n",
    "\n",
    "# As probability\n",
    "prob_dist = class_dist / class_dist.sum()"
   ]
  },
  {
   "cell_type": "code",
   "execution_count": 8,
   "metadata": {},
   "outputs": [],
   "source": [
    "classes = pd.DataFrame({'emotion': ['neutral', 'cashier']})"
   ]
  },
  {
   "cell_type": "code",
   "execution_count": 9,
   "metadata": {},
   "outputs": [],
   "source": [
    "# Create a configuration class to help if I want to change parameters later\n",
    "\n",
    "class Config:\n",
    "    def __init__(self, n_mfcc = 26, n_feat = 13, n_fft = 552, sr = 22050, window = 0.4, test_shift = 0.1):\n",
    "        self.n_mfcc = n_mfcc\n",
    "        self.n_feat = n_feat\n",
    "        self.n_fft = n_fft\n",
    "        self.sr = sr\n",
    "        self.window = window\n",
    "        self.step = int(sr * window)\n",
    "        self.test_shift = test_shift\n",
    "        self.shift = int(sr * test_shift)\n",
    "        \n",
    "config = Config()"
   ]
  },
  {
   "cell_type": "code",
   "execution_count": 10,
   "metadata": {},
   "outputs": [],
   "source": [
    "def build_train_feats():\n",
    "    X = []\n",
    "    y = []\n",
    "    \n",
    "    for row in train.iterrows():\n",
    "        \n",
    "        # Initialize min and max values for each file for scaling\n",
    "        _min, _max = float('inf'), -float('inf')\n",
    "        \n",
    "        # Load the file\n",
    "        wav, sr = librosa.load(row[1]['filename'])\n",
    "        \n",
    "        # Create an array to hold features for each window generated from specific file\n",
    "        Xf = []\n",
    "        \n",
    "        # Create randomly selected 0.4s windows from each file. Select 1 random window for every 0.1s of audio in file.\n",
    "        \n",
    "        n_samples =  int(10 * float(row[1]['length'])) \n",
    "              \n",
    "        for i in range(n_samples):\n",
    "            \n",
    "            # Get the numerical label for the emotion of the file\n",
    "            # This needs to be in for loop so that y.shape and X.shape match up\n",
    "            y.append(classes[classes['emotion'] == row[1]['emotion']].index[0])\n",
    "            \n",
    "            # choose random starting point for window\n",
    "            rand_ind = np.random.randint(0, wav.shape[0] - config.step)\n",
    "            # create windowed sample\n",
    "            X_sample = wav[rand_ind: rand_ind + config.step]\n",
    "            # generate mfccs from sample\n",
    "            X_mfccs = librosa.feature.mfcc(X_sample, sr, n_mfcc = config.n_mfcc, n_fft = config.n_fft,\n",
    "                                            hop_length = config.n_fft)[1:config.n_feat + 1]\n",
    "             # check min and max values\n",
    "            _min = min(np.amin(X_mfccs), _min)\n",
    "            _max = max(np.amax(X_mfccs), _max)\n",
    "            # add features of window to X\n",
    "            Xf.append(X_mfccs)\n",
    "        \n",
    "        # Put window data for file into array and scale\n",
    "        Xf = np.array(Xf)\n",
    "        Xf = (Xf - _min) / (_max - _min)\n",
    "        \n",
    "        # Now that data is scaled, pick out each window from Xf and add that to X\n",
    "        for ar in Xf:\n",
    "            X.append(ar)\n",
    "        \n",
    "    \n",
    "    # Once windows have been taken from every file reshape X\n",
    "    X = np.array(X)\n",
    "    X = X.reshape(X.shape[0], X.shape[1], X.shape[2], 1)\n",
    "    y = to_categorical(y, num_classes = len(classes))\n",
    "    #y = to_categorical(y, num_classes = 7)    \n",
    "    \n",
    "    return X, y"
   ]
  },
  {
   "cell_type": "code",
   "execution_count": 11,
   "metadata": {},
   "outputs": [],
   "source": [
    "X, y = build_train_feats()"
   ]
  },
  {
   "cell_type": "code",
   "execution_count": 12,
   "metadata": {},
   "outputs": [
    {
     "name": "stdout",
     "output_type": "stream",
     "text": [
      "(47007, 13, 16, 1)\n"
     ]
    }
   ],
   "source": [
    "print(X.shape)"
   ]
  },
  {
   "cell_type": "code",
   "execution_count": 13,
   "metadata": {},
   "outputs": [
    {
     "name": "stdout",
     "output_type": "stream",
     "text": [
      "2\n"
     ]
    }
   ],
   "source": [
    "print(len(classes))"
   ]
  },
  {
   "cell_type": "code",
   "execution_count": 14,
   "metadata": {},
   "outputs": [
    {
     "name": "stdout",
     "output_type": "stream",
     "text": [
      "(13, 16, 1)\n",
      "<class 'tuple'>\n"
     ]
    }
   ],
   "source": [
    "y_flat = np.argmax(y, axis = 1)\n",
    "class_weight = compute_class_weight('balanced', np.unique(y_flat), y_flat) # This will assign slightly more weight to the neutral class\n",
    "\n",
    "input_shape = (X.shape[1], X.shape[2], 1) # Required input shape for CNN\n",
    "print(input_shape)\n",
    "print(type(input_shape))"
   ]
  },
  {
   "cell_type": "code",
   "execution_count": 15,
   "metadata": {},
   "outputs": [],
   "source": [
    "# Function to define CNN\n",
    "\n",
    "def create_cnn():\n",
    "    model = Sequential()\n",
    "    model.add(Conv2D(16, (3,3), activation = 'relu', strides = (1,1), padding = 'same', input_shape = input_shape))\n",
    "    model.add(Conv2D(32, (3,3), activation = 'relu', strides = (1,1), padding = 'same'))\n",
    "    model.add(Conv2D(64, (3,3), activation = 'relu', strides = (1,1), padding = 'same'))\n",
    "    model.add(Conv2D(128, (3,3), activation = 'relu', strides = (1,1), padding = 'same'))\n",
    "    model.add(MaxPool2D((2,2)))\n",
    "    model.add(Dropout(0.5))\n",
    "    model.add(Flatten())\n",
    "    model.add(Dense(128, activation ='relu'))\n",
    "    model.add(Dense(64, activation ='relu'))\n",
    "    model.add(Dense(len(classes), activation ='softmax'))\n",
    "    model.summary()\n",
    "    model.compile(loss = 'categorical_crossentropy', optimizer = 'adam', metrics = ['acc'])\n",
    "    #model.compile(loss = 'categorical_crossentropy', optimizer = 'sgd', metrics = ['acc'])\n",
    "    return model\n",
    "    "
   ]
  },
  {
   "cell_type": "code",
   "execution_count": 16,
   "metadata": {},
   "outputs": [
    {
     "name": "stderr",
     "output_type": "stream",
     "text": [
      "WARNING: Logging before flag parsing goes to stderr.\n",
      "W0929 19:32:28.259007 140041086449472 deprecation_wrapper.py:119] From /usr/local/lib/python3.6/dist-packages/keras/backend/tensorflow_backend.py:4070: The name tf.nn.max_pool is deprecated. Please use tf.nn.max_pool2d instead.\n",
      "\n"
     ]
    },
    {
     "name": "stdout",
     "output_type": "stream",
     "text": [
      "Model: \"sequential_1\"\n",
      "_________________________________________________________________\n",
      "Layer (type)                 Output Shape              Param #   \n",
      "=================================================================\n",
      "conv2d_1 (Conv2D)            (None, 13, 16, 16)        160       \n",
      "_________________________________________________________________\n",
      "conv2d_2 (Conv2D)            (None, 13, 16, 32)        4640      \n",
      "_________________________________________________________________\n",
      "conv2d_3 (Conv2D)            (None, 13, 16, 64)        18496     \n",
      "_________________________________________________________________\n",
      "conv2d_4 (Conv2D)            (None, 13, 16, 128)       73856     \n",
      "_________________________________________________________________\n",
      "max_pooling2d_1 (MaxPooling2 (None, 6, 8, 128)         0         \n",
      "_________________________________________________________________\n",
      "dropout_1 (Dropout)          (None, 6, 8, 128)         0         \n",
      "_________________________________________________________________\n",
      "flatten_1 (Flatten)          (None, 6144)              0         \n",
      "_________________________________________________________________\n",
      "dense_1 (Dense)              (None, 128)               786560    \n",
      "_________________________________________________________________\n",
      "dense_2 (Dense)              (None, 64)                8256      \n",
      "_________________________________________________________________\n",
      "dense_3 (Dense)              (None, 2)                 130       \n",
      "=================================================================\n",
      "Total params: 892,098\n",
      "Trainable params: 892,098\n",
      "Non-trainable params: 0\n",
      "_________________________________________________________________\n"
     ]
    }
   ],
   "source": [
    "# Create the CNN and fit it\n",
    "\n",
    "model = create_cnn()\n",
    "#model.fit(X, y, epochs = 25, batch_size = 32, shuffle = True, class_weight = class_weight)"
   ]
  },
  {
   "cell_type": "code",
   "execution_count": 17,
   "metadata": {},
   "outputs": [
    {
     "name": "stderr",
     "output_type": "stream",
     "text": [
      "W0929 19:32:38.690958 140041086449472 deprecation_wrapper.py:119] From /usr/local/lib/python3.6/dist-packages/keras/backend/tensorflow_backend.py:422: The name tf.global_variables is deprecated. Please use tf.compat.v1.global_variables instead.\n",
      "\n"
     ]
    },
    {
     "name": "stdout",
     "output_type": "stream",
     "text": [
      "Epoch 1/3\n",
      "47007/47007 [==============================] - 8s 162us/step - loss: 0.1124 - acc: 0.9580\n",
      "Epoch 2/3\n",
      "47007/47007 [==============================] - 6s 138us/step - loss: 0.0778 - acc: 0.9708\n",
      "Epoch 3/3\n",
      "47007/47007 [==============================] - 6s 136us/step - loss: 0.0655 - acc: 0.9756\n"
     ]
    }
   ],
   "source": [
    "#model.fit(X, y, epochs = 25, batch_size = 32, shuffle = True, class_weight = class_weight)\n",
    "v = 1\n",
    "epochs = 3\n",
    "model_file_path = f'cashier_weights_v{v}.h5'\n",
    "\n",
    "model.fit(X, y, epochs = epochs, batch_size = 32, shuffle = True, class_weight = class_weight)\n",
    "#model.fit(X, y, epochs = 1, batch_size = 32, shuffle = True, class_weight = class_weight, callbacks=[cp_callback])\n",
    "\n",
    "model.save_weights(model_file_path)\n",
    "#model.save('my_model.pkl')"
   ]
  },
  {
   "cell_type": "code",
   "execution_count": 18,
   "metadata": {},
   "outputs": [],
   "source": [
    "model.save_weights(model_file_path)"
   ]
  },
  {
   "cell_type": "code",
   "execution_count": 19,
   "metadata": {},
   "outputs": [
    {
     "name": "stdout",
     "output_type": "stream",
     "text": [
      "Model: \"sequential_2\"\n",
      "_________________________________________________________________\n",
      "Layer (type)                 Output Shape              Param #   \n",
      "=================================================================\n",
      "conv2d_5 (Conv2D)            (None, 13, 16, 16)        160       \n",
      "_________________________________________________________________\n",
      "conv2d_6 (Conv2D)            (None, 13, 16, 32)        4640      \n",
      "_________________________________________________________________\n",
      "conv2d_7 (Conv2D)            (None, 13, 16, 64)        18496     \n",
      "_________________________________________________________________\n",
      "conv2d_8 (Conv2D)            (None, 13, 16, 128)       73856     \n",
      "_________________________________________________________________\n",
      "max_pooling2d_2 (MaxPooling2 (None, 6, 8, 128)         0         \n",
      "_________________________________________________________________\n",
      "dropout_2 (Dropout)          (None, 6, 8, 128)         0         \n",
      "_________________________________________________________________\n",
      "flatten_2 (Flatten)          (None, 6144)              0         \n",
      "_________________________________________________________________\n",
      "dense_4 (Dense)              (None, 128)               786560    \n",
      "_________________________________________________________________\n",
      "dense_5 (Dense)              (None, 64)                8256      \n",
      "_________________________________________________________________\n",
      "dense_6 (Dense)              (None, 2)                 130       \n",
      "=================================================================\n",
      "Total params: 892,098\n",
      "Trainable params: 892,098\n",
      "Non-trainable params: 0\n",
      "_________________________________________________________________\n"
     ]
    }
   ],
   "source": [
    "new_model = create_cnn()\n",
    "new_model.load_weights(model_file_path)"
   ]
  },
  {
   "cell_type": "code",
   "execution_count": 20,
   "metadata": {},
   "outputs": [],
   "source": [
    "def get_file_prediction(file_path):\n",
    "    # Initialize a local results list\n",
    "    local_results = []\n",
    "\n",
    "    # Initialize min and max values for each file for scaling\n",
    "    _min, _max = float('inf'), -float('inf')\n",
    "\n",
    "    # Get the numerical label for the emotion of the file\n",
    "    \n",
    "    #label = classes[classes['emotion'] == row[1]['emotion']].index[0]\n",
    "    #label = 'neutral'\n",
    "    #if 'angry' in \n",
    "    # Load the file\n",
    "    wav, sr = librosa.load(file_path)\n",
    "\n",
    "    # Create an array to hold features for each window\n",
    "    X = []\n",
    "\n",
    "    # Iterate over sliding 0.4s windows of the audio file\n",
    "    for i in range(int((wav.shape[0]/sr-config.window)/config.test_shift)):\n",
    "        X_sample = wav[i*config.shift: i*config.shift + config.step] # slice out 0.4s window\n",
    "        X_mfccs = librosa.feature.mfcc(X_sample, sr, n_mfcc = config.n_mfcc, n_fft = config.n_fft,\n",
    "                                        hop_length = config.n_fft)[1:config.n_feat + 1] # generate mfccs from sample\n",
    "\n",
    "        _min = min(np.amin(X_mfccs), _min)\n",
    "        _max = max(np.amax(X_mfccs), _max) # check min and max values\n",
    "        X.append(X_mfccs) # add features of window to X\n",
    "\n",
    "    # Put window data into array, scale, then reshape\n",
    "    X = np.array(X)\n",
    "    X = (X - _min) / (_max - _min)\n",
    "    X = X.reshape(X.shape[0], X.shape[1], X.shape[2], 1)\n",
    "\n",
    "    # Feed data for each window into model for prediction\n",
    "    for i in range(X.shape[0]):\n",
    "        window = X[i].reshape(1, X.shape[1], X.shape[2], 1)\n",
    "        local_results.append(model.predict(window))\n",
    "\n",
    "    # Aggregate predictions for file into one then append to all_results\n",
    "    local_results = (np.sum(np.array(local_results), axis = 0)/len(local_results))[0]\n",
    "    local_results = list(local_results)\n",
    "    prediction = np.argmax(local_results)\n",
    "    #local_results.append(prediction)\n",
    "    #local_results.append(label)\n",
    "    #local_results.append(row[1]['filename'])\n",
    "    \n",
    "    return local_results"
   ]
  },
  {
   "cell_type": "code",
   "execution_count": 24,
   "metadata": {},
   "outputs": [
    {
     "ename": "NameError",
     "evalue": "name 'sort' is not defined",
     "output_type": "error",
     "traceback": [
      "\u001b[0;31m---------------------------------------------------------------------------\u001b[0m",
      "\u001b[0;31mNameError\u001b[0m                                 Traceback (most recent call last)",
      "\u001b[0;32m<ipython-input-24-efcd18fceb2c>\u001b[0m in \u001b[0;36m<module>\u001b[0;34m\u001b[0m\n\u001b[1;32m      5\u001b[0m \u001b[0;31m# neutral_files_list = [os.path.join('valid', x) for x in os.listdir('valid')\u001b[0m\u001b[0;34m\u001b[0m\u001b[0;34m\u001b[0m\u001b[0;34m\u001b[0m\u001b[0m\n\u001b[1;32m      6\u001b[0m \u001b[0;31m#                       if file_name_filter in x and '.wav' in x]\u001b[0m\u001b[0;34m\u001b[0m\u001b[0;34m\u001b[0m\u001b[0;34m\u001b[0m\u001b[0m\n\u001b[0;32m----> 7\u001b[0;31m \u001b[0;32mfor\u001b[0m \u001b[0mtest_file\u001b[0m \u001b[0;32min\u001b[0m \u001b[0msort\u001b[0m\u001b[0;34m(\u001b[0m\u001b[0mtest_file_paths\u001b[0m\u001b[0;34m)\u001b[0m\u001b[0;34m:\u001b[0m\u001b[0;34m\u001b[0m\u001b[0;34m\u001b[0m\u001b[0m\n\u001b[0m\u001b[1;32m      8\u001b[0m     \u001b[0mpr\u001b[0m \u001b[0;34m=\u001b[0m \u001b[0mget_file_prediction\u001b[0m\u001b[0;34m(\u001b[0m\u001b[0mtest_file\u001b[0m\u001b[0;34m)\u001b[0m\u001b[0;34m\u001b[0m\u001b[0;34m\u001b[0m\u001b[0m\n\u001b[1;32m      9\u001b[0m     \u001b[0mprint\u001b[0m\u001b[0;34m(\u001b[0m\u001b[0;34mf'{test_file}: {pr}'\u001b[0m \u001b[0;34m)\u001b[0m\u001b[0;34m\u001b[0m\u001b[0;34m\u001b[0m\u001b[0m\n",
      "\u001b[0;31mNameError\u001b[0m: name 'sort' is not defined"
     ]
    }
   ],
   "source": [
    "valid_files_dir = 'cashier_data/validation'\n",
    "test_file_paths = [os.path.join(valid_files_dir, x) for x  in os.listdir(valid_files_dir) if '.wav' in x]\n",
    "\n",
    "# file_name_filter = '.wav'\n",
    "# neutral_files_list = [os.path.join('valid', x) for x in os.listdir('valid') \n",
    "#                       if file_name_filter in x and '.wav' in x]\n",
    "for test_file in sorted(test_file_paths):    \n",
    "    pr = get_file_prediction(test_file)\n",
    "    print(f'{test_file}: {pr}' )"
   ]
  },
  {
   "cell_type": "code",
   "execution_count": 69,
   "metadata": {},
   "outputs": [
    {
     "data": {
      "text/html": [
       "<div>\n",
       "<style scoped>\n",
       "    .dataframe tbody tr th:only-of-type {\n",
       "        vertical-align: middle;\n",
       "    }\n",
       "\n",
       "    .dataframe tbody tr th {\n",
       "        vertical-align: top;\n",
       "    }\n",
       "\n",
       "    .dataframe thead th {\n",
       "        text-align: right;\n",
       "    }\n",
       "</style>\n",
       "<table border=\"1\" class=\"dataframe\">\n",
       "  <thead>\n",
       "    <tr style=\"text-align: right;\">\n",
       "      <th></th>\n",
       "      <th>neutral</th>\n",
       "      <th>angry</th>\n",
       "      <th>prediction</th>\n",
       "      <th>ground_truth</th>\n",
       "      <th>filename</th>\n",
       "    </tr>\n",
       "  </thead>\n",
       "  <tbody>\n",
       "    <tr>\n",
       "      <td>0</td>\n",
       "      <td>9.180237e-02</td>\n",
       "      <td>0.908198</td>\n",
       "      <td>1</td>\n",
       "      <td>1</td>\n",
       "      <td>vad_tokens/-EVi6JeGznc_55_chunk1.wav</td>\n",
       "    </tr>\n",
       "    <tr>\n",
       "      <td>1</td>\n",
       "      <td>5.839008e-04</td>\n",
       "      <td>0.999416</td>\n",
       "      <td>1</td>\n",
       "      <td>1</td>\n",
       "      <td>vad_tokens/3teUMuONx8U_181_chunk1.wav</td>\n",
       "    </tr>\n",
       "    <tr>\n",
       "      <td>2</td>\n",
       "      <td>7.241815e-07</td>\n",
       "      <td>0.999999</td>\n",
       "      <td>1</td>\n",
       "      <td>1</td>\n",
       "      <td>vad_tokens/3teUMuONx8U_183_chunk1.wav</td>\n",
       "    </tr>\n",
       "    <tr>\n",
       "      <td>3</td>\n",
       "      <td>3.168416e-03</td>\n",
       "      <td>0.996832</td>\n",
       "      <td>1</td>\n",
       "      <td>1</td>\n",
       "      <td>vad_tokens/6D4Z2MrhULw_318_chunk5.wav</td>\n",
       "    </tr>\n",
       "    <tr>\n",
       "      <td>4</td>\n",
       "      <td>3.016151e-03</td>\n",
       "      <td>0.996984</td>\n",
       "      <td>1</td>\n",
       "      <td>1</td>\n",
       "      <td>vad_tokens/6D4Z2MrhULw_318_chunk6.wav</td>\n",
       "    </tr>\n",
       "  </tbody>\n",
       "</table>\n",
       "</div>"
      ],
      "text/plain": [
       "        neutral     angry  prediction  ground_truth  \\\n",
       "0  9.180237e-02  0.908198           1             1   \n",
       "1  5.839008e-04  0.999416           1             1   \n",
       "2  7.241815e-07  0.999999           1             1   \n",
       "3  3.168416e-03  0.996832           1             1   \n",
       "4  3.016151e-03  0.996984           1             1   \n",
       "\n",
       "                                filename  \n",
       "0   vad_tokens/-EVi6JeGznc_55_chunk1.wav  \n",
       "1  vad_tokens/3teUMuONx8U_181_chunk1.wav  \n",
       "2  vad_tokens/3teUMuONx8U_183_chunk1.wav  \n",
       "3  vad_tokens/6D4Z2MrhULw_318_chunk5.wav  \n",
       "4  vad_tokens/6D4Z2MrhULw_318_chunk6.wav  "
      ]
     },
     "execution_count": 69,
     "metadata": {},
     "output_type": "execute_result"
    }
   ],
   "source": [
    "# test.shape\n",
    "# type(test)\n",
    "# test_part = test[:20]\n",
    "# test_part.shape\n",
    "# results, accuracy = test_model(model, test)\n",
    "# results, accuracy = test_model(new_model, test_part)\n",
    "results = test_model(new_model, test)\n",
    "results.head()"
   ]
  },
  {
   "cell_type": "code",
   "execution_count": 70,
   "metadata": {},
   "outputs": [
    {
     "data": {
      "text/html": [
       "<div>\n",
       "<style scoped>\n",
       "    .dataframe tbody tr th:only-of-type {\n",
       "        vertical-align: middle;\n",
       "    }\n",
       "\n",
       "    .dataframe tbody tr th {\n",
       "        vertical-align: top;\n",
       "    }\n",
       "\n",
       "    .dataframe thead th {\n",
       "        text-align: right;\n",
       "    }\n",
       "</style>\n",
       "<table border=\"1\" class=\"dataframe\">\n",
       "  <thead>\n",
       "    <tr style=\"text-align: right;\">\n",
       "      <th></th>\n",
       "      <th>neutral</th>\n",
       "      <th>angry</th>\n",
       "      <th>prediction</th>\n",
       "      <th>ground_truth</th>\n",
       "      <th>filename</th>\n",
       "    </tr>\n",
       "  </thead>\n",
       "  <tbody>\n",
       "    <tr>\n",
       "      <td>0</td>\n",
       "      <td>9.180237e-02</td>\n",
       "      <td>0.908198</td>\n",
       "      <td>1</td>\n",
       "      <td>1</td>\n",
       "      <td>vad_tokens/-EVi6JeGznc_55_chunk1.wav</td>\n",
       "    </tr>\n",
       "    <tr>\n",
       "      <td>1</td>\n",
       "      <td>5.839008e-04</td>\n",
       "      <td>0.999416</td>\n",
       "      <td>1</td>\n",
       "      <td>1</td>\n",
       "      <td>vad_tokens/3teUMuONx8U_181_chunk1.wav</td>\n",
       "    </tr>\n",
       "    <tr>\n",
       "      <td>2</td>\n",
       "      <td>7.241815e-07</td>\n",
       "      <td>0.999999</td>\n",
       "      <td>1</td>\n",
       "      <td>1</td>\n",
       "      <td>vad_tokens/3teUMuONx8U_183_chunk1.wav</td>\n",
       "    </tr>\n",
       "    <tr>\n",
       "      <td>3</td>\n",
       "      <td>3.168416e-03</td>\n",
       "      <td>0.996832</td>\n",
       "      <td>1</td>\n",
       "      <td>1</td>\n",
       "      <td>vad_tokens/6D4Z2MrhULw_318_chunk5.wav</td>\n",
       "    </tr>\n",
       "    <tr>\n",
       "      <td>4</td>\n",
       "      <td>3.016151e-03</td>\n",
       "      <td>0.996984</td>\n",
       "      <td>1</td>\n",
       "      <td>1</td>\n",
       "      <td>vad_tokens/6D4Z2MrhULw_318_chunk6.wav</td>\n",
       "    </tr>\n",
       "    <tr>\n",
       "      <td>...</td>\n",
       "      <td>...</td>\n",
       "      <td>...</td>\n",
       "      <td>...</td>\n",
       "      <td>...</td>\n",
       "      <td>...</td>\n",
       "    </tr>\n",
       "    <tr>\n",
       "      <td>195</td>\n",
       "      <td>9.984597e-01</td>\n",
       "      <td>0.001540</td>\n",
       "      <td>0</td>\n",
       "      <td>0</td>\n",
       "      <td>vad_tokens/arina_a_017_part_1.wav</td>\n",
       "    </tr>\n",
       "    <tr>\n",
       "      <td>196</td>\n",
       "      <td>9.990305e-01</td>\n",
       "      <td>0.000970</td>\n",
       "      <td>0</td>\n",
       "      <td>0</td>\n",
       "      <td>vad_tokens/arina_a_017_part_5.wav</td>\n",
       "    </tr>\n",
       "    <tr>\n",
       "      <td>197</td>\n",
       "      <td>9.985220e-01</td>\n",
       "      <td>0.001478</td>\n",
       "      <td>0</td>\n",
       "      <td>0</td>\n",
       "      <td>vad_tokens/arina_a_018_part_2.wav</td>\n",
       "    </tr>\n",
       "    <tr>\n",
       "      <td>198</td>\n",
       "      <td>8.313251e-01</td>\n",
       "      <td>0.168675</td>\n",
       "      <td>0</td>\n",
       "      <td>0</td>\n",
       "      <td>vad_tokens/arina_a_018_part_4.wav</td>\n",
       "    </tr>\n",
       "    <tr>\n",
       "      <td>199</td>\n",
       "      <td>9.998317e-01</td>\n",
       "      <td>0.000168</td>\n",
       "      <td>0</td>\n",
       "      <td>0</td>\n",
       "      <td>vad_tokens/arina_a_018_part_7.wav</td>\n",
       "    </tr>\n",
       "  </tbody>\n",
       "</table>\n",
       "<p>200 rows × 5 columns</p>\n",
       "</div>"
      ],
      "text/plain": [
       "          neutral     angry  prediction  ground_truth  \\\n",
       "0    9.180237e-02  0.908198           1             1   \n",
       "1    5.839008e-04  0.999416           1             1   \n",
       "2    7.241815e-07  0.999999           1             1   \n",
       "3    3.168416e-03  0.996832           1             1   \n",
       "4    3.016151e-03  0.996984           1             1   \n",
       "..            ...       ...         ...           ...   \n",
       "195  9.984597e-01  0.001540           0             0   \n",
       "196  9.990305e-01  0.000970           0             0   \n",
       "197  9.985220e-01  0.001478           0             0   \n",
       "198  8.313251e-01  0.168675           0             0   \n",
       "199  9.998317e-01  0.000168           0             0   \n",
       "\n",
       "                                  filename  \n",
       "0     vad_tokens/-EVi6JeGznc_55_chunk1.wav  \n",
       "1    vad_tokens/3teUMuONx8U_181_chunk1.wav  \n",
       "2    vad_tokens/3teUMuONx8U_183_chunk1.wav  \n",
       "3    vad_tokens/6D4Z2MrhULw_318_chunk5.wav  \n",
       "4    vad_tokens/6D4Z2MrhULw_318_chunk6.wav  \n",
       "..                                     ...  \n",
       "195      vad_tokens/arina_a_017_part_1.wav  \n",
       "196      vad_tokens/arina_a_017_part_5.wav  \n",
       "197      vad_tokens/arina_a_018_part_2.wav  \n",
       "198      vad_tokens/arina_a_018_part_4.wav  \n",
       "199      vad_tokens/arina_a_018_part_7.wav  \n",
       "\n",
       "[200 rows x 5 columns]"
      ]
     },
     "execution_count": 70,
     "metadata": {},
     "output_type": "execute_result"
    }
   ],
   "source": [
    "results.head(200)"
   ]
  },
  {
   "cell_type": "code",
   "execution_count": 34,
   "metadata": {},
   "outputs": [
    {
     "name": "stdout",
     "output_type": "stream",
     "text": [
      "Model: \"sequential_3\"\n",
      "_________________________________________________________________\n",
      "Layer (type)                 Output Shape              Param #   \n",
      "=================================================================\n",
      "conv2d_9 (Conv2D)            (None, 13, 16, 16)        160       \n",
      "_________________________________________________________________\n",
      "conv2d_10 (Conv2D)           (None, 13, 16, 32)        4640      \n",
      "_________________________________________________________________\n",
      "conv2d_11 (Conv2D)           (None, 13, 16, 64)        18496     \n",
      "_________________________________________________________________\n",
      "conv2d_12 (Conv2D)           (None, 13, 16, 128)       73856     \n",
      "_________________________________________________________________\n",
      "max_pooling2d_3 (MaxPooling2 (None, 6, 8, 128)         0         \n",
      "_________________________________________________________________\n",
      "dropout_3 (Dropout)          (None, 6, 8, 128)         0         \n",
      "_________________________________________________________________\n",
      "flatten_3 (Flatten)          (None, 6144)              0         \n",
      "_________________________________________________________________\n",
      "dense_7 (Dense)              (None, 128)               786560    \n",
      "_________________________________________________________________\n",
      "dense_8 (Dense)              (None, 64)                8256      \n",
      "_________________________________________________________________\n",
      "dense_9 (Dense)              (None, 2)                 130       \n",
      "=================================================================\n",
      "Total params: 892,098\n",
      "Trainable params: 892,098\n",
      "Non-trainable params: 0\n",
      "_________________________________________________________________\n"
     ]
    }
   ],
   "source": [
    "#model = pickle.load(open('cnn_ep25_mfccOnly_moreData.pkl', 'rb'))\n",
    "model = create_cnn()\n",
    "model = model.load_weights('my_model.pkl')"
   ]
  },
  {
   "cell_type": "code",
   "execution_count": null,
   "metadata": {},
   "outputs": [],
   "source": [
    "model = create_cnn()\n",
    "model = model.load_weights('my_model.pkl')"
   ]
  },
  {
   "cell_type": "code",
   "execution_count": 62,
   "metadata": {},
   "outputs": [
    {
     "ename": "KeyError",
     "evalue": "False",
     "output_type": "error",
     "traceback": [
      "\u001b[0;31m---------------------------------------------------------------------------\u001b[0m",
      "\u001b[0;31mKeyError\u001b[0m                                  Traceback (most recent call last)",
      "\u001b[0;32m/usr/local/lib/python3.6/dist-packages/pandas/core/indexes/base.py\u001b[0m in \u001b[0;36mget_loc\u001b[0;34m(self, key, method, tolerance)\u001b[0m\n\u001b[1;32m   2896\u001b[0m             \u001b[0;32mtry\u001b[0m\u001b[0;34m:\u001b[0m\u001b[0;34m\u001b[0m\u001b[0;34m\u001b[0m\u001b[0m\n\u001b[0;32m-> 2897\u001b[0;31m                 \u001b[0;32mreturn\u001b[0m \u001b[0mself\u001b[0m\u001b[0;34m.\u001b[0m\u001b[0m_engine\u001b[0m\u001b[0;34m.\u001b[0m\u001b[0mget_loc\u001b[0m\u001b[0;34m(\u001b[0m\u001b[0mkey\u001b[0m\u001b[0;34m)\u001b[0m\u001b[0;34m\u001b[0m\u001b[0;34m\u001b[0m\u001b[0m\n\u001b[0m\u001b[1;32m   2898\u001b[0m             \u001b[0;32mexcept\u001b[0m \u001b[0mKeyError\u001b[0m\u001b[0;34m:\u001b[0m\u001b[0;34m\u001b[0m\u001b[0;34m\u001b[0m\u001b[0m\n",
      "\u001b[0;32mpandas/_libs/index.pyx\u001b[0m in \u001b[0;36mpandas._libs.index.IndexEngine.get_loc\u001b[0;34m()\u001b[0m\n",
      "\u001b[0;32mpandas/_libs/index.pyx\u001b[0m in \u001b[0;36mpandas._libs.index.IndexEngine.get_loc\u001b[0;34m()\u001b[0m\n",
      "\u001b[0;32mpandas/_libs/hashtable_class_helper.pxi\u001b[0m in \u001b[0;36mpandas._libs.hashtable.PyObjectHashTable.get_item\u001b[0;34m()\u001b[0m\n",
      "\u001b[0;32mpandas/_libs/hashtable_class_helper.pxi\u001b[0m in \u001b[0;36mpandas._libs.hashtable.PyObjectHashTable.get_item\u001b[0;34m()\u001b[0m\n",
      "\u001b[0;31mKeyError\u001b[0m: False",
      "\nDuring handling of the above exception, another exception occurred:\n",
      "\u001b[0;31mKeyError\u001b[0m                                  Traceback (most recent call last)",
      "\u001b[0;32m<ipython-input-62-6bc9feb3f5ac>\u001b[0m in \u001b[0;36m<module>\u001b[0;34m\u001b[0m\n\u001b[1;32m      4\u001b[0m \u001b[0mtest_part\u001b[0m\u001b[0;34m.\u001b[0m\u001b[0mshape\u001b[0m\u001b[0;34m\u001b[0m\u001b[0;34m\u001b[0m\u001b[0m\n\u001b[1;32m      5\u001b[0m \u001b[0;31m# results, accuracy = test_model(model, test)\u001b[0m\u001b[0;34m\u001b[0m\u001b[0;34m\u001b[0m\u001b[0;34m\u001b[0m\u001b[0m\n\u001b[0;32m----> 6\u001b[0;31m \u001b[0mresults\u001b[0m\u001b[0;34m,\u001b[0m \u001b[0maccuracy\u001b[0m \u001b[0;34m=\u001b[0m \u001b[0mtest_model\u001b[0m\u001b[0;34m(\u001b[0m\u001b[0mnew_model\u001b[0m\u001b[0;34m,\u001b[0m \u001b[0mtest_part\u001b[0m\u001b[0;34m)\u001b[0m\u001b[0;34m\u001b[0m\u001b[0;34m\u001b[0m\u001b[0m\n\u001b[0m",
      "\u001b[0;32m<ipython-input-57-43e1703e9f37>\u001b[0m in \u001b[0;36mtest_model\u001b[0;34m(model, input_files)\u001b[0m\n\u001b[1;32m     61\u001b[0m     \u001b[0;31m# Compute accuracy\u001b[0m\u001b[0;34m\u001b[0m\u001b[0;34m\u001b[0m\u001b[0;34m\u001b[0m\u001b[0m\n\u001b[1;32m     62\u001b[0m     \u001b[0mcorrects\u001b[0m \u001b[0;34m=\u001b[0m \u001b[0;34m(\u001b[0m\u001b[0mall_results\u001b[0m\u001b[0;34m[\u001b[0m\u001b[0;34m'prediction'\u001b[0m\u001b[0;34m]\u001b[0m \u001b[0;34m==\u001b[0m \u001b[0mall_results\u001b[0m\u001b[0;34m[\u001b[0m\u001b[0;34m'ground_truth'\u001b[0m\u001b[0;34m]\u001b[0m\u001b[0;34m)\u001b[0m\u001b[0;34m.\u001b[0m\u001b[0mvalue_counts\u001b[0m\u001b[0;34m(\u001b[0m\u001b[0;34m)\u001b[0m\u001b[0;34m.\u001b[0m\u001b[0mloc\u001b[0m\u001b[0;34m[\u001b[0m\u001b[0;32mTrue\u001b[0m\u001b[0;34m]\u001b[0m\u001b[0;34m\u001b[0m\u001b[0;34m\u001b[0m\u001b[0m\n\u001b[0;32m---> 63\u001b[0;31m     \u001b[0mincorrects\u001b[0m \u001b[0;34m=\u001b[0m \u001b[0;34m(\u001b[0m\u001b[0mall_results\u001b[0m\u001b[0;34m[\u001b[0m\u001b[0;34m'prediction'\u001b[0m\u001b[0;34m]\u001b[0m \u001b[0;34m==\u001b[0m \u001b[0mall_results\u001b[0m\u001b[0;34m[\u001b[0m\u001b[0;34m'ground_truth'\u001b[0m\u001b[0;34m]\u001b[0m\u001b[0;34m)\u001b[0m\u001b[0;34m.\u001b[0m\u001b[0mvalue_counts\u001b[0m\u001b[0;34m(\u001b[0m\u001b[0;34m)\u001b[0m\u001b[0;34m.\u001b[0m\u001b[0mloc\u001b[0m\u001b[0;34m[\u001b[0m\u001b[0;32mFalse\u001b[0m\u001b[0;34m]\u001b[0m\u001b[0;34m\u001b[0m\u001b[0;34m\u001b[0m\u001b[0m\n\u001b[0m\u001b[1;32m     64\u001b[0m     \u001b[0maccuracy\u001b[0m \u001b[0;34m=\u001b[0m \u001b[0mcorrects\u001b[0m \u001b[0;34m/\u001b[0m \u001b[0mall_results\u001b[0m\u001b[0;34m.\u001b[0m\u001b[0mshape\u001b[0m\u001b[0;34m[\u001b[0m\u001b[0;36m0\u001b[0m\u001b[0;34m]\u001b[0m\u001b[0;34m\u001b[0m\u001b[0;34m\u001b[0m\u001b[0m\n\u001b[1;32m     65\u001b[0m     \u001b[0mprint\u001b[0m\u001b[0;34m(\u001b[0m\u001b[0;34mf'Validation Set Accuracy: {accuracy}'\u001b[0m\u001b[0;34m)\u001b[0m\u001b[0;34m\u001b[0m\u001b[0;34m\u001b[0m\u001b[0m\n",
      "\u001b[0;32m/usr/local/lib/python3.6/dist-packages/pandas/core/indexing.py\u001b[0m in \u001b[0;36m__getitem__\u001b[0;34m(self, key)\u001b[0m\n\u001b[1;32m   1422\u001b[0m \u001b[0;34m\u001b[0m\u001b[0m\n\u001b[1;32m   1423\u001b[0m             \u001b[0mmaybe_callable\u001b[0m \u001b[0;34m=\u001b[0m \u001b[0mcom\u001b[0m\u001b[0;34m.\u001b[0m\u001b[0mapply_if_callable\u001b[0m\u001b[0;34m(\u001b[0m\u001b[0mkey\u001b[0m\u001b[0;34m,\u001b[0m \u001b[0mself\u001b[0m\u001b[0;34m.\u001b[0m\u001b[0mobj\u001b[0m\u001b[0;34m)\u001b[0m\u001b[0;34m\u001b[0m\u001b[0;34m\u001b[0m\u001b[0m\n\u001b[0;32m-> 1424\u001b[0;31m             \u001b[0;32mreturn\u001b[0m \u001b[0mself\u001b[0m\u001b[0;34m.\u001b[0m\u001b[0m_getitem_axis\u001b[0m\u001b[0;34m(\u001b[0m\u001b[0mmaybe_callable\u001b[0m\u001b[0;34m,\u001b[0m \u001b[0maxis\u001b[0m\u001b[0;34m=\u001b[0m\u001b[0maxis\u001b[0m\u001b[0;34m)\u001b[0m\u001b[0;34m\u001b[0m\u001b[0;34m\u001b[0m\u001b[0m\n\u001b[0m\u001b[1;32m   1425\u001b[0m \u001b[0;34m\u001b[0m\u001b[0m\n\u001b[1;32m   1426\u001b[0m     \u001b[0;32mdef\u001b[0m \u001b[0m_is_scalar_access\u001b[0m\u001b[0;34m(\u001b[0m\u001b[0mself\u001b[0m\u001b[0;34m,\u001b[0m \u001b[0mkey\u001b[0m\u001b[0;34m:\u001b[0m \u001b[0mTuple\u001b[0m\u001b[0;34m)\u001b[0m\u001b[0;34m:\u001b[0m\u001b[0;34m\u001b[0m\u001b[0;34m\u001b[0m\u001b[0m\n",
      "\u001b[0;32m/usr/local/lib/python3.6/dist-packages/pandas/core/indexing.py\u001b[0m in \u001b[0;36m_getitem_axis\u001b[0;34m(self, key, axis)\u001b[0m\n\u001b[1;32m   1848\u001b[0m         \u001b[0;31m# fall thru to straight lookup\u001b[0m\u001b[0;34m\u001b[0m\u001b[0;34m\u001b[0m\u001b[0;34m\u001b[0m\u001b[0m\n\u001b[1;32m   1849\u001b[0m         \u001b[0mself\u001b[0m\u001b[0;34m.\u001b[0m\u001b[0m_validate_key\u001b[0m\u001b[0;34m(\u001b[0m\u001b[0mkey\u001b[0m\u001b[0;34m,\u001b[0m \u001b[0maxis\u001b[0m\u001b[0;34m)\u001b[0m\u001b[0;34m\u001b[0m\u001b[0;34m\u001b[0m\u001b[0m\n\u001b[0;32m-> 1850\u001b[0;31m         \u001b[0;32mreturn\u001b[0m \u001b[0mself\u001b[0m\u001b[0;34m.\u001b[0m\u001b[0m_get_label\u001b[0m\u001b[0;34m(\u001b[0m\u001b[0mkey\u001b[0m\u001b[0;34m,\u001b[0m \u001b[0maxis\u001b[0m\u001b[0;34m=\u001b[0m\u001b[0maxis\u001b[0m\u001b[0;34m)\u001b[0m\u001b[0;34m\u001b[0m\u001b[0;34m\u001b[0m\u001b[0m\n\u001b[0m\u001b[1;32m   1851\u001b[0m \u001b[0;34m\u001b[0m\u001b[0m\n\u001b[1;32m   1852\u001b[0m \u001b[0;34m\u001b[0m\u001b[0m\n",
      "\u001b[0;32m/usr/local/lib/python3.6/dist-packages/pandas/core/indexing.py\u001b[0m in \u001b[0;36m_get_label\u001b[0;34m(self, label, axis)\u001b[0m\n\u001b[1;32m    154\u001b[0m             \u001b[0;31m# but will fail when the index is not present\u001b[0m\u001b[0;34m\u001b[0m\u001b[0;34m\u001b[0m\u001b[0;34m\u001b[0m\u001b[0m\n\u001b[1;32m    155\u001b[0m             \u001b[0;31m# see GH5667\u001b[0m\u001b[0;34m\u001b[0m\u001b[0;34m\u001b[0m\u001b[0;34m\u001b[0m\u001b[0m\n\u001b[0;32m--> 156\u001b[0;31m             \u001b[0;32mreturn\u001b[0m \u001b[0mself\u001b[0m\u001b[0;34m.\u001b[0m\u001b[0mobj\u001b[0m\u001b[0;34m.\u001b[0m\u001b[0m_xs\u001b[0m\u001b[0;34m(\u001b[0m\u001b[0mlabel\u001b[0m\u001b[0;34m,\u001b[0m \u001b[0maxis\u001b[0m\u001b[0;34m=\u001b[0m\u001b[0maxis\u001b[0m\u001b[0;34m)\u001b[0m\u001b[0;34m\u001b[0m\u001b[0;34m\u001b[0m\u001b[0m\n\u001b[0m\u001b[1;32m    157\u001b[0m         \u001b[0;32melif\u001b[0m \u001b[0misinstance\u001b[0m\u001b[0;34m(\u001b[0m\u001b[0mlabel\u001b[0m\u001b[0;34m,\u001b[0m \u001b[0mtuple\u001b[0m\u001b[0;34m)\u001b[0m \u001b[0;32mand\u001b[0m \u001b[0misinstance\u001b[0m\u001b[0;34m(\u001b[0m\u001b[0mlabel\u001b[0m\u001b[0;34m[\u001b[0m\u001b[0maxis\u001b[0m\u001b[0;34m]\u001b[0m\u001b[0;34m,\u001b[0m \u001b[0mslice\u001b[0m\u001b[0;34m)\u001b[0m\u001b[0;34m:\u001b[0m\u001b[0;34m\u001b[0m\u001b[0;34m\u001b[0m\u001b[0m\n\u001b[1;32m    158\u001b[0m             \u001b[0;32mraise\u001b[0m \u001b[0mIndexingError\u001b[0m\u001b[0;34m(\u001b[0m\u001b[0;34m\"no slices here, handle elsewhere\"\u001b[0m\u001b[0;34m)\u001b[0m\u001b[0;34m\u001b[0m\u001b[0;34m\u001b[0m\u001b[0m\n",
      "\u001b[0;32m/usr/local/lib/python3.6/dist-packages/pandas/core/generic.py\u001b[0m in \u001b[0;36mxs\u001b[0;34m(self, key, axis, level, drop_level)\u001b[0m\n\u001b[1;32m   3735\u001b[0m             \u001b[0mloc\u001b[0m\u001b[0;34m,\u001b[0m \u001b[0mnew_index\u001b[0m \u001b[0;34m=\u001b[0m \u001b[0mself\u001b[0m\u001b[0;34m.\u001b[0m\u001b[0mindex\u001b[0m\u001b[0;34m.\u001b[0m\u001b[0mget_loc_level\u001b[0m\u001b[0;34m(\u001b[0m\u001b[0mkey\u001b[0m\u001b[0;34m,\u001b[0m \u001b[0mdrop_level\u001b[0m\u001b[0;34m=\u001b[0m\u001b[0mdrop_level\u001b[0m\u001b[0;34m)\u001b[0m\u001b[0;34m\u001b[0m\u001b[0;34m\u001b[0m\u001b[0m\n\u001b[1;32m   3736\u001b[0m         \u001b[0;32melse\u001b[0m\u001b[0;34m:\u001b[0m\u001b[0;34m\u001b[0m\u001b[0;34m\u001b[0m\u001b[0m\n\u001b[0;32m-> 3737\u001b[0;31m             \u001b[0mloc\u001b[0m \u001b[0;34m=\u001b[0m \u001b[0mself\u001b[0m\u001b[0;34m.\u001b[0m\u001b[0mindex\u001b[0m\u001b[0;34m.\u001b[0m\u001b[0mget_loc\u001b[0m\u001b[0;34m(\u001b[0m\u001b[0mkey\u001b[0m\u001b[0;34m)\u001b[0m\u001b[0;34m\u001b[0m\u001b[0;34m\u001b[0m\u001b[0m\n\u001b[0m\u001b[1;32m   3738\u001b[0m \u001b[0;34m\u001b[0m\u001b[0m\n\u001b[1;32m   3739\u001b[0m             \u001b[0;32mif\u001b[0m \u001b[0misinstance\u001b[0m\u001b[0;34m(\u001b[0m\u001b[0mloc\u001b[0m\u001b[0;34m,\u001b[0m \u001b[0mnp\u001b[0m\u001b[0;34m.\u001b[0m\u001b[0mndarray\u001b[0m\u001b[0;34m)\u001b[0m\u001b[0;34m:\u001b[0m\u001b[0;34m\u001b[0m\u001b[0;34m\u001b[0m\u001b[0m\n",
      "\u001b[0;32m/usr/local/lib/python3.6/dist-packages/pandas/core/indexes/base.py\u001b[0m in \u001b[0;36mget_loc\u001b[0;34m(self, key, method, tolerance)\u001b[0m\n\u001b[1;32m   2897\u001b[0m                 \u001b[0;32mreturn\u001b[0m \u001b[0mself\u001b[0m\u001b[0;34m.\u001b[0m\u001b[0m_engine\u001b[0m\u001b[0;34m.\u001b[0m\u001b[0mget_loc\u001b[0m\u001b[0;34m(\u001b[0m\u001b[0mkey\u001b[0m\u001b[0;34m)\u001b[0m\u001b[0;34m\u001b[0m\u001b[0;34m\u001b[0m\u001b[0m\n\u001b[1;32m   2898\u001b[0m             \u001b[0;32mexcept\u001b[0m \u001b[0mKeyError\u001b[0m\u001b[0;34m:\u001b[0m\u001b[0;34m\u001b[0m\u001b[0;34m\u001b[0m\u001b[0m\n\u001b[0;32m-> 2899\u001b[0;31m                 \u001b[0;32mreturn\u001b[0m \u001b[0mself\u001b[0m\u001b[0;34m.\u001b[0m\u001b[0m_engine\u001b[0m\u001b[0;34m.\u001b[0m\u001b[0mget_loc\u001b[0m\u001b[0;34m(\u001b[0m\u001b[0mself\u001b[0m\u001b[0;34m.\u001b[0m\u001b[0m_maybe_cast_indexer\u001b[0m\u001b[0;34m(\u001b[0m\u001b[0mkey\u001b[0m\u001b[0;34m)\u001b[0m\u001b[0;34m)\u001b[0m\u001b[0;34m\u001b[0m\u001b[0;34m\u001b[0m\u001b[0m\n\u001b[0m\u001b[1;32m   2900\u001b[0m         \u001b[0mindexer\u001b[0m \u001b[0;34m=\u001b[0m \u001b[0mself\u001b[0m\u001b[0;34m.\u001b[0m\u001b[0mget_indexer\u001b[0m\u001b[0;34m(\u001b[0m\u001b[0;34m[\u001b[0m\u001b[0mkey\u001b[0m\u001b[0;34m]\u001b[0m\u001b[0;34m,\u001b[0m \u001b[0mmethod\u001b[0m\u001b[0;34m=\u001b[0m\u001b[0mmethod\u001b[0m\u001b[0;34m,\u001b[0m \u001b[0mtolerance\u001b[0m\u001b[0;34m=\u001b[0m\u001b[0mtolerance\u001b[0m\u001b[0;34m)\u001b[0m\u001b[0;34m\u001b[0m\u001b[0;34m\u001b[0m\u001b[0m\n\u001b[1;32m   2901\u001b[0m         \u001b[0;32mif\u001b[0m \u001b[0mindexer\u001b[0m\u001b[0;34m.\u001b[0m\u001b[0mndim\u001b[0m \u001b[0;34m>\u001b[0m \u001b[0;36m1\u001b[0m \u001b[0;32mor\u001b[0m \u001b[0mindexer\u001b[0m\u001b[0;34m.\u001b[0m\u001b[0msize\u001b[0m \u001b[0;34m>\u001b[0m \u001b[0;36m1\u001b[0m\u001b[0;34m:\u001b[0m\u001b[0;34m\u001b[0m\u001b[0;34m\u001b[0m\u001b[0m\n",
      "\u001b[0;32mpandas/_libs/index.pyx\u001b[0m in \u001b[0;36mpandas._libs.index.IndexEngine.get_loc\u001b[0;34m()\u001b[0m\n",
      "\u001b[0;32mpandas/_libs/index.pyx\u001b[0m in \u001b[0;36mpandas._libs.index.IndexEngine.get_loc\u001b[0;34m()\u001b[0m\n",
      "\u001b[0;32mpandas/_libs/hashtable_class_helper.pxi\u001b[0m in \u001b[0;36mpandas._libs.hashtable.PyObjectHashTable.get_item\u001b[0;34m()\u001b[0m\n",
      "\u001b[0;32mpandas/_libs/hashtable_class_helper.pxi\u001b[0m in \u001b[0;36mpandas._libs.hashtable.PyObjectHashTable.get_item\u001b[0;34m()\u001b[0m\n",
      "\u001b[0;31mKeyError\u001b[0m: False"
     ]
    }
   ],
   "source": []
  },
  {
   "cell_type": "code",
   "execution_count": 30,
   "metadata": {},
   "outputs": [],
   "source": [
    "results.to_csv('test_results.csv')"
   ]
  },
  {
   "cell_type": "code",
   "execution_count": 31,
   "metadata": {},
   "outputs": [
    {
     "data": {
      "text/plain": [
       "4    84\n",
       "2    61\n",
       "3    60\n",
       "1    24\n",
       "5    20\n",
       "6     9\n",
       "0     9\n",
       "Name: prediction, dtype: int64"
      ]
     },
     "execution_count": 31,
     "metadata": {},
     "output_type": "execute_result"
    }
   ],
   "source": [
    "# This version of the model that's been trained on more data is much more accurate on the validation set than the previous version.\n",
    "# 83% vs 67%!!!\n",
    "results['prediction'].value_counts()"
   ]
  },
  {
   "cell_type": "code",
   "execution_count": 32,
   "metadata": {},
   "outputs": [],
   "source": [
    "# This function tells us if our model was close to making correct predictions\n",
    "\n",
    "def is_model_close(results, threshold):\n",
    "    close = []\n",
    "\n",
    "    for row in results.iterrows():\n",
    "        maybes = (row[1][list(classes['emotion'])] > threshold)\n",
    "        close.append(classes.loc[row[1]['ground_truth'], 'emotion'] in list(maybes[maybes == True].index))\n",
    "    \n",
    "    close = pd.DataFrame(close)\n",
    "    \n",
    "    acc = close[0].value_counts()[True]/(results.shape[0])\n",
    "    \n",
    "    print('At threshold of %s accuracy is %s' % (threshold, acc))\n",
    "\n",
    "    return close[0].value_counts()"
   ]
  },
  {
   "cell_type": "code",
   "execution_count": 33,
   "metadata": {},
   "outputs": [
    {
     "name": "stdout",
     "output_type": "stream",
     "text": [
      "At threshold of 0.2 accuracy is 0.6666666666666666\n"
     ]
    },
    {
     "data": {
      "text/plain": [
       "True     178\n",
       "False     89\n",
       "Name: 0, dtype: int64"
      ]
     },
     "execution_count": 33,
     "metadata": {},
     "output_type": "execute_result"
    }
   ],
   "source": [
    "# Seems the model is typically not too far off\n",
    "is_model_close(results, 0.2)"
   ]
  },
  {
   "cell_type": "code",
   "execution_count": 34,
   "metadata": {},
   "outputs": [],
   "source": [
    "def plot_confusion(truth, pred, normalize = True):\n",
    "    cm = confusion_matrix(truth, pred)\n",
    "    \n",
    "    if normalize == True:\n",
    "        cm = cm.astype('float') / cm.sum(axis=1)[:, np.newaxis]\n",
    "    \n",
    "    plt.figure(figsize=(10,8))\n",
    "    sns.heatmap(cm, cmap = 'Blues', annot = True,\n",
    "                xticklabels = classes['emotion'],\n",
    "                yticklabels = classes['emotion'])\n",
    "    plt.xlabel('Prediction')\n",
    "    plt.ylabel('Truth');\n"
   ]
  },
  {
   "cell_type": "code",
   "execution_count": 35,
   "metadata": {},
   "outputs": [
    {
     "data": {
      "image/png": "[encoded data removed]",
      "text/plain": [
       "<Figure size 720x576 with 2 Axes>"
      ]
     },
     "metadata": {
      "needs_background": "light"
     },
     "output_type": "display_data"
    }
   ],
   "source": [
    "plot_confusion(results['ground_truth'], results['prediction'])"
   ]
  },
  {
   "cell_type": "code",
   "execution_count": 436,
   "metadata": {},
   "outputs": [],
   "source": [
    "# Determine confusion matrix for training examples, is it similar to that of the test set?"
   ]
  },
  {
   "cell_type": "code",
   "execution_count": 36,
   "metadata": {},
   "outputs": [],
   "source": [
    "def train_results(X, y, plot = True, normalize = True):\n",
    "    '''\n",
    "    Determine model performance on the training set. Plot a confusion matrix unless plot set to False.\n",
    "    '''\n",
    "    \n",
    "    # Create lists to hold truth and predictions. Initialize counter for correct predictions.\n",
    "    truth = []\n",
    "    pred = []\n",
    "    corrects = 0\n",
    "\n",
    "    # iterate through the list of training examples\n",
    "    for i in range(X.shape[0]):\n",
    "        tr = np.argmax(y[i]) # determine truth\n",
    "        truth.append(tr)\n",
    "        train_point = X[i].reshape(1, X.shape[1], X.shape[2], 1)\n",
    "        pr = np.argmax(model.predict(train_point)) # make prediction\n",
    "        pred.append(pr)\n",
    "        \n",
    "        # increment counter if correct\n",
    "        if pr == tr:\n",
    "            corrects += 1 \n",
    "    \n",
    "    # determine accuracy from number of correct predictions\n",
    "    accuracy = corrects / X.shape[0]\n",
    "    \n",
    "    # plot confusion matrix using previously defined function\n",
    "    if plot == True:\n",
    "        plot_confusion(truth, pred, normalize = normalize)\n",
    "    \n",
    "    return accuracy\n",
    "    \n",
    "    "
   ]
  },
  {
   "cell_type": "code",
   "execution_count": 37,
   "metadata": {},
   "outputs": [
    {
     "name": "stdout",
     "output_type": "stream",
     "text": [
      "0.45227936222771165\n"
     ]
    },
    {
     "data": {
      "image/png": "[encoded data removed]",
      "text/plain": [
       "<Figure size 720x576 with 2 Axes>"
      ]
     },
     "metadata": {
      "needs_background": "light"
     },
     "output_type": "display_data"
    }
   ],
   "source": [
    "# Model is very accurate on the training set, no surprise here.\n",
    "acc = train_results(X, y)\n",
    "print(acc)"
   ]
  },
  {
   "cell_type": "code",
   "execution_count": 439,
   "metadata": {},
   "outputs": [],
   "source": [
    "pickle.dump(model, open('cnn_ep25_mfccOnly_moreData1.pkl', 'wb'))"
   ]
  },
  {
   "cell_type": "code",
   "execution_count": null,
   "metadata": {},
   "outputs": [],
   "source": []
  }
 ],
 "metadata": {
  "kernelspec": {
   "display_name": "Python 3",
   "language": "python",
   "name": "python3"
  },
  "language_info": {
   "codemirror_mode": {
    "name": "ipython",
    "version": 3
   },
   "file_extension": ".py",
   "mimetype": "text/x-python",
   "name": "python",
   "nbconvert_exporter": "python",
   "pygments_lexer": "ipython3",
   "version": "3.6.8"
  }
 },
 "nbformat": 4,
 "nbformat_minor": 2
}
